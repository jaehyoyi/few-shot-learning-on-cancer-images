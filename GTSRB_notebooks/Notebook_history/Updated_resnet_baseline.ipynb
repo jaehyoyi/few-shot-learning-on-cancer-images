{
  "nbformat": 4,
  "nbformat_minor": 0,
  "metadata": {
    "colab": {
      "provenance": []
    },
    "kernelspec": {
      "name": "python3",
      "display_name": "Python 3"
    },
    "language_info": {
      "name": "python"
    }
  },
  "cells": [
    {
      "cell_type": "markdown",
      "source": [
        "Import"
      ],
      "metadata": {
        "id": "9UVIG0syBZUE"
      }
    },
    {
      "cell_type": "code",
      "execution_count": null,
      "metadata": {
        "id": "fehGSywHA37K"
      },
      "outputs": [],
      "source": [
        "import torch\n",
        "import torch.nn as nn\n",
        "import torch.optim as optim\n",
        "from torchvision import datasets, transforms, models"
      ]
    },
    {
      "cell_type": "markdown",
      "source": [
        "Baseline"
      ],
      "metadata": {
        "id": "itwvyp3wBpvq"
      }
    },
    {
      "cell_type": "code",
      "source": [
        "# Load pretrained ResNet-101\n",
        "resnet101 = models.resnet101(pretrained=True)\n",
        "\n",
        "# Adjust the first convolutional layer\n",
        "resnet101.conv1 = nn.Conv2d(3, 64, kernel_size=3, stride=1, padding=1, bias=False)\n",
        "\n",
        "# Remove the max pooling layer to avoid reducing the spartial dimensions too much\n",
        "resnet101.maxpool = nn.Identity()\n",
        "\n",
        "# Modify the final layer\n",
        "num_classes = 43\n",
        "resnet101.fc = nn.Linear(resnet101.fc.in_features, num_classes)\n",
        "\n",
        "# Loss function and optimizer\n",
        "criterion = nn.CrossEntropyLoss()\n",
        "optimizer = optim.Adam(resnet101.parameters(), lr=0.001)\n",
        "\n",
        "# Load our dataset\n",
        "train_loader = torch.utils.data.DataLoader(\n",
        "    datasets.ImageFolder('INSERT YOUR PATH HERE',\n",
        "                         transform=transforms.Compose([\n",
        "                             transforms.Resize((32, 32)),\n",
        "                             transforms.ToTensor()])),\n",
        "    batch_size=32, shuffle=True)\n",
        "\n",
        "# Training loop\n",
        "num_epochs = 60\n",
        "for epoch in range(num_epochs):\n",
        "    for inputs, labels in train_loader:\n",
        "        optimizer.zero_grad()\n",
        "        outputs = resnet101(inputs)\n",
        "        loss = criterion(outputs, labels)\n",
        "        loss.backward()\n",
        "        optimizer.step()\n"
      ],
      "metadata": {
        "id": "1_0Uwwy0A6uz"
      },
      "execution_count": null,
      "outputs": []
    }
  ]
}