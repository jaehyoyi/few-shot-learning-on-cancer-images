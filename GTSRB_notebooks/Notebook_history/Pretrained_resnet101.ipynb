{
  "nbformat": 4,
  "nbformat_minor": 0,
  "metadata": {
    "colab": {
      "provenance": []
    },
    "kernelspec": {
      "name": "python3",
      "display_name": "Python 3"
    },
    "language_info": {
      "name": "python"
    }
  },
  "cells": [
    {
      "cell_type": "code",
      "execution_count": null,
      "metadata": {
        "id": "RNoH-w11xRb5"
      },
      "outputs": [],
      "source": [
        "import torch\n",
        "import torch.nn as nn\n",
        "import torch.optim as optim\n",
        "from torchvision import datasets, transforms, models\n",
        "\n",
        "# Load pretrained ResNet-101\n",
        "resnet101 = models.resnet101(pretrained=True)\n",
        "\n",
        "# Modify the final layer\n",
        "num_classes = 3  # replace with the number of classes we are trying to classify\n",
        "resnet101.fc = nn.Linear(resnet101.fc.in_features, num_classes)\n",
        "\n",
        "# Loss function and optimizer\n",
        "criterion = nn.CrossEntropyLoss()\n",
        "optimizer = optim.Adam(resnet101.parameters(), lr=0.001)\n",
        "\n",
        "# Load our dataset\n",
        "train_loader = torch.utils.data.DataLoader(\n",
        "    datasets.ImageFolder('INSERT OUR PATH HERE',\n",
        "                         transform=transforms.ToTensor()),\n",
        "    batch_size=32, shuffle=True)\n",
        "\n",
        "# Training loop\n",
        "\n",
        "numm_epochs = 60 #adjust this to what we want to use\n",
        "for epoch in range(num_epochs):\n",
        "    for inputs, labels in train_loader:\n",
        "        optimizer.zero_grad()\n",
        "        outputs = resnet101(inputs)\n",
        "        loss = criterion(outputs, labels)\n",
        "        loss.backward()\n",
        "        optimizer.step()"
      ]
    }
  ]
}